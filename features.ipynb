{
 "cells": [
  {
   "cell_type": "code",
   "execution_count": 23,
   "metadata": {},
   "outputs": [],
   "source": [
    "from imports import *"
   ]
  },
  {
   "cell_type": "code",
   "execution_count": 24,
   "metadata": {},
   "outputs": [],
   "source": [
    "# Count available cores\n",
    "cores = multiprocessing.cpu_count()\n",
    "# In this case the amount of executors will be equal to the amount of cores\n",
    "instances = cores\n",
    "\n",
    "spark = SparkSession.builder \\\n",
    "          .appName(\"AMD-SM2L Joint Project\") \\\n",
    "          .config(\"spark.driver.memory\", \"3g\") \\\n",
    "          .config(\"spark.executor.memory\", \"4g\") \\\n",
    "          .config(\"spark.executor.instances\", cores) \\\n",
    "          .config(\"spark.executor.cores\", cores//instances) \\\n",
    "          .config(\"spark.sql.shuffle.partitions\", cores) \\\n",
    "          .config(\"spark.sql.execution.arrow.pyspark.enabled\", \"true\") \\\n",
    "          .config(\"spark.sql.execution.arrow.enabled\", \"true\") \\\n",
    "          .getOrCreate()\n",
    "\n",
    "spark.sparkContext.setLogLevel(\"OFF\")\n",
    "dataframe = spark.read.parquet(\"src/datasets/my_HI-Small_Trans.parquet\", header=True)"
   ]
  },
  {
   "cell_type": "markdown",
   "metadata": {},
   "source": [
    "# Computing"
   ]
  },
  {
   "cell_type": "code",
   "execution_count": 25,
   "metadata": {},
   "outputs": [],
   "source": [
    "from MyGraph import *\n",
    "train = spark.read.parquet(\"src/datasets/HI_Small_train_set.parquet\", header=True)\n",
    "test = spark.read.parquet(\"src/datasets/HI_Small_test_set.parquet\", header=True)\n",
    "dataframe = spark.read.parquet(\"src/datasets/HI-Small_features.parquet\", header=True).select('id', 'same_account', 'same_bank', 'amount_difference', 'same_amounts', 'receiving_currency', 'payment_currency', 'same_currency', 'payment_format', 'is_laundering')"
   ]
  },
  {
   "cell_type": "code",
   "execution_count": 32,
   "metadata": {},
   "outputs": [
    {
     "name": "stderr",
     "output_type": "stream",
     "text": [
      "/Users/simonemalesardi/spark/python/pyspark/sql/dataframe.py:169: UserWarning: DataFrame.sql_ctx is an internal property, and will be removed in future releases. Use DataFrame.sparkSession instead.\n",
      "  warnings.warn(\n",
      "/Users/simonemalesardi/spark/python/pyspark/sql/dataframe.py:148: UserWarning: DataFrame constructor is internal. Do not directly use it.\n",
      "  warnings.warn(\"DataFrame constructor is internal. Do not directly use it.\")\n"
     ]
    }
   ],
   "source": [
    "train_graph = MyGraph(train)\n",
    "train_graph.get_forwards()\n",
    "train_graph.same_or_similar()\n",
    "train_graph.compute_fan()"
   ]
  },
  {
   "cell_type": "code",
   "execution_count": 33,
   "metadata": {},
   "outputs": [],
   "source": [
    "train_graph.join_ids()\n",
    "\n",
    "train_graph.ids = train_graph.ids.drop('before_forward','forward','exists_same')#filter('fan_out_degree IS NOT NULL').show()\n",
    "train_graph.df = train_graph.df.join(train_graph.ids, 'id', 'left').na.fill(value=0,subset=['exists_similar'])\\\n",
    "    .na.fill(value=1,subset=['fan_out_degree', 'fan_in_degree'])\n",
    "\n",
    "train = train_graph.df.select('id',\n",
    " 'week',\n",
    " 'day_of_month',\n",
    " 'hour',\n",
    " 'amount_received',\n",
    " 'amount_paid',\n",
    " 'day_of_week',\n",
    " 'transactions_same_hour_fa',\n",
    " 'transactions_same_day_fa',\n",
    " 'transactions_same_week_fa',\n",
    " 'transactions_same_hour_fata',\n",
    " 'transactions_same_day_fata',\n",
    " 'transactions_same_week_fata',\n",
    " 'from_account_inDegree',\n",
    " 'from_account_outDegree',\n",
    " 'to_account_inDegree',\n",
    " 'to_account_outDegree',\n",
    " 'exists_similar',\n",
    " 'fan_in_degree',\n",
    " 'fan_out_degree')\n",
    "\n",
    "train = train.join(dataframe, 'id', 'left')\n",
    "train.write.parquet(\"src/datasets/train_all_feats.parquet\")"
   ]
  },
  {
   "cell_type": "code",
   "execution_count": 52,
   "metadata": {},
   "outputs": [],
   "source": [
    "test_graph = MyGraph(test)\n",
    "test_graph.get_forwards()\n",
    "test_graph.same_or_similar()\n",
    "test_graph.compute_fan()"
   ]
  },
  {
   "cell_type": "code",
   "execution_count": 58,
   "metadata": {},
   "outputs": [
    {
     "name": "stderr",
     "output_type": "stream",
     "text": [
      "                                                                                \r"
     ]
    }
   ],
   "source": [
    "test_graph.join_ids()\n",
    "\n",
    "test_graph.ids = test_graph.ids.drop('before_forward','forward','exists_same')#filter('fan_out_degree IS NOT NULL').show()\n",
    "test_graph.df = test_graph.df.join(test_graph.ids, 'id', 'left').na.fill(value=0,subset=['exists_similar'])\\\n",
    "    .na.fill(value=1,subset=['fan_out_degree', 'fan_in_degree'])\n",
    "\n",
    "test = test_graph.df.select('id',\n",
    " 'week',\n",
    " 'day_of_month',\n",
    " 'hour',\n",
    " 'amount_received',\n",
    " 'amount_paid',\n",
    " 'day_of_week',\n",
    " 'transactions_same_hour_fa',\n",
    " 'transactions_same_day_fa',\n",
    " 'transactions_same_week_fa',\n",
    " 'transactions_same_hour_fata',\n",
    " 'transactions_same_day_fata',\n",
    " 'transactions_same_week_fata',\n",
    " 'from_account_inDegree',\n",
    " 'from_account_outDegree',\n",
    " 'to_account_inDegree',\n",
    " 'to_account_outDegree',\n",
    " 'exists_similar',\n",
    " 'fan_in_degree',\n",
    " 'fan_out_degree')\n",
    "\n",
    "test = test.join(dataframe, 'id', 'left')\n",
    "test.write.parquet(\"src/datasets/test_all_feats.parquet\")"
   ]
  }
 ],
 "metadata": {
  "kernelspec": {
   "display_name": "amd_sm2l",
   "language": "python",
   "name": "python3"
  },
  "language_info": {
   "codemirror_mode": {
    "name": "ipython",
    "version": 3
   },
   "file_extension": ".py",
   "mimetype": "text/x-python",
   "name": "python",
   "nbconvert_exporter": "python",
   "pygments_lexer": "ipython3",
   "version": "3.8.17"
  },
  "orig_nbformat": 4
 },
 "nbformat": 4,
 "nbformat_minor": 2
}
