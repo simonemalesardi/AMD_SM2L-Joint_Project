{
 "cells": [
  {
   "cell_type": "code",
   "execution_count": 2,
   "metadata": {},
   "outputs": [],
   "source": [
    "with open('src/pattern/HI-Small_Patterns.txt') as f:\n",
    "    small_patterns = f.readlines()"
   ]
  },
  {
   "cell_type": "code",
   "execution_count": 3,
   "metadata": {},
   "outputs": [],
   "source": [
    "laundering = []\n",
    "laundering_with_categories = []\n",
    "for row in small_patterns:\n",
    "    if 'BEGIN LAUNDERING ATTEMPT' in row:\n",
    "        row = row.replace('\\n','')\n",
    "        laundering_with_categories.append(row)\n",
    "        laund = row.split(':')[0]\n",
    "        laundering.append(laund.split('- ')[1])"
   ]
  },
  {
   "cell_type": "code",
   "execution_count": 4,
   "metadata": {},
   "outputs": [
    {
     "data": {
      "text/plain": [
       "{'BIPARTITE',\n",
       " 'CYCLE',\n",
       " 'FAN-IN',\n",
       " 'FAN-OUT',\n",
       " 'GATHER-SCATTER',\n",
       " 'RANDOM',\n",
       " 'SCATTER-GATHER',\n",
       " 'STACK'}"
      ]
     },
     "execution_count": 4,
     "metadata": {},
     "output_type": "execute_result"
    }
   ],
   "source": [
    "set(laundering)"
   ]
  },
  {
   "cell_type": "code",
   "execution_count": 5,
   "metadata": {},
   "outputs": [
    {
     "data": {
      "text/plain": [
       "{'FAN-OUT': {},\n",
       " 'CYCLE': {},\n",
       " 'GATHER-SCATTER': {},\n",
       " 'STACK': {},\n",
       " 'RANDOM': {},\n",
       " 'BIPARTITE': {},\n",
       " 'FAN-IN': {},\n",
       " 'SCATTER-GATHER': {}}"
      ]
     },
     "execution_count": 5,
     "metadata": {},
     "output_type": "execute_result"
    }
   ],
   "source": [
    "dict_laundering = {}\n",
    "for laund in laundering: \n",
    "    dict_laundering[laund] = {}\n",
    "\n",
    "dict_laundering"
   ]
  },
  {
   "cell_type": "code",
   "execution_count": 6,
   "metadata": {},
   "outputs": [],
   "source": [
    "import numpy as np\n",
    "\n",
    "array_patterns = []\n",
    "for key in dict_laundering.keys(): #filtro per il nome della frode\n",
    "    count = 0\n",
    "    insert = False\n",
    "    type_laundering = None\n",
    "    for row in small_patterns:\n",
    "        if ('BEGIN LAUNDERING ATTEMPT - '+key) in row: #filtro per tutte le frodi di quel tipo\n",
    "            insert = True\n",
    "            type = row.split(':  ')\n",
    "            if len(type) == 2: #considero la categoria (e.g. Max 13-degree Fan-In)\n",
    "                type_laundering = type[1].replace('\\n', '')\n",
    "\n",
    "            dict_laundering[key][count] = []\n",
    "        elif ('END LAUNDERING ATTEMPT - '+key) in row:\n",
    "            count += 1\n",
    "            type_laundering = None\n",
    "            insert = False\n",
    "        elif insert: \n",
    "            array_row = row.replace('\\n','').split(',')\n",
    "            patt = [count, key]\n",
    "            for el in array_row: \n",
    "                patt.append(el)\n",
    "\n",
    "            if type_laundering == None:       \n",
    "                patt.append(None)     \n",
    "                dict_laundering[key][count].append(array_row)\n",
    "            else: \n",
    "                patt.append(type_laundering)\n",
    "                dict_laundering[key][count].append(array_row)\n",
    "            \n",
    "            array_patterns.append(patt)"
   ]
  },
  {
   "attachments": {},
   "cell_type": "markdown",
   "metadata": {},
   "source": [
    "# Spiegazione frodi"
   ]
  },
  {
   "attachments": {},
   "cell_type": "markdown",
   "metadata": {},
   "source": [
    "•  Fan-Out: This is when a large amount of cash is deposited into a bank account and then transferred to multiple accounts in different locations or jurisdictions https://bing.com/search?q=money+laundering+patterns. This makes it harder to trace the source and destination of the funds.\n",
    "\n",
    "•  Fan-In: This is the opposite of fan-out. It is when multiple small deposits are made into different accounts and then consolidated into a single account https://baselgovernance.org/sites/default/files/2019-04/indicators_and_patterns_of_money_laundering_or_terrorist_financing.pdf. This makes it easier to move the funds without attracting attention.\n",
    "\n",
    "•  Cycle: This is when funds are moved in a circular pattern among several accounts or entities, often using shell companies or offshore accounts https://bing.com/search?q=money+laundering+patterns. This creates confusion and obscures the audit trail of the funds.\n",
    "\n",
    "•  Bipartite: This is when funds are transferred between two parties that have no apparent business relationship or legitimate reason for the transaction https://bing.com/search?q=money+laundering+patterns. This may indicate that the parties are colluding to launder money or evade taxes.\n",
    "\n",
    "•  Stack: This is when funds are moved through several layers of transactions, often involving different financial institutions, intermediaries or instruments https://bing.com/search?q=money+laundering+patterns. This adds complexity and distance between the original source and the final destination of the funds.\n",
    "\n",
    "•  Random: This is when funds are moved in an irregular or unpredictable manner, without any clear pattern or logic https://bing.com/search?q=money+laundering+patterns. This may indicate that the launderer is trying to avoid detection by creating noise or confusion in the transaction data.\n",
    "\n",
    "•  Scatter Gather: This is when funds are split into smaller amounts and dispersed to multiple accounts or locations, and then reassembled into a larger amount at a different account or location https://bing.com/search?q=money+laundering+patterns. This makes it difficult to track the movement and ownership of the funds.\n",
    "\n",
    "•  Gather Scatter: This is the reverse of scatter gather. It is when funds are collected from multiple sources and aggregated into a larger amount, and then distributed to multiple destinations or beneficiaries https://bing.com/search?q=money+laundering+patterns. This makes it hard to identify the origin and purpose of the funds."
   ]
  },
  {
   "cell_type": "code",
   "execution_count": 7,
   "metadata": {},
   "outputs": [],
   "source": [
    "columns = ['id','type','timestamp','from_bank','from_account','to_bank','to_account','amount_received','receiving_currency','amount_paid','payment_currency','payment_format','is_laundering','category']"
   ]
  },
  {
   "cell_type": "code",
   "execution_count": 8,
   "metadata": {},
   "outputs": [],
   "source": [
    "import pandas as pd\n",
    "pd.DataFrame(array_patterns, columns=columns).to_csv('src/pattern/HI-Small_Patterns.csv',index=False)"
   ]
  }
 ],
 "metadata": {
  "kernelspec": {
   "display_name": "amd_sm2l",
   "language": "python",
   "name": "python3"
  },
  "language_info": {
   "codemirror_mode": {
    "name": "ipython",
    "version": 3
   },
   "file_extension": ".py",
   "mimetype": "text/x-python",
   "name": "python",
   "nbconvert_exporter": "python",
   "pygments_lexer": "ipython3",
   "version": "3.8.17"
  },
  "orig_nbformat": 4
 },
 "nbformat": 4,
 "nbformat_minor": 2
}
